{
 "cells": [
  {
   "cell_type": "code",
   "execution_count": 7,
   "metadata": {},
   "outputs": [],
   "source": [
    "\n",
    "from visualization import visualize_3d_reconstruction, visualize_full_reconstruction\n",
    "from triangulation import estimate_pose_and_triangulate, reconstruct_sequence\n",
    "from utils import extract_frames, extract_frames_from_dir, visualize_matches\n",
    "from features import detect_features, match_features\n",
    "import numpy as np\n",
    "import sys"
   ]
  },
  {
   "cell_type": "code",
   "execution_count": null,
   "metadata": {},
   "outputs": [],
   "source": [
    "video_path = '../data/rollei3.mov'  # Replace with your video path\n",
    "\n",
    "frame_interval = 2   # Extract one frame every x frames\n",
    "max_frames = 300     # Maximum number of frames to extract\n",
    "\n",
    "frames = extract_frames(video_path, frame_interval, max_frames)\n",
    "\n",
    "# instead of video, get frames from directory\n",
    "# directory_path = '../data/south-building/images'\n",
    "# frames = extract_frames_from_directory(directory_path, max_frames)"
   ]
  },
  {
   "cell_type": "code",
   "execution_count": null,
   "metadata": {},
   "outputs": [],
   "source": [
    "keypoints_list, descriptors_list = detect_features(frames)"
   ]
  },
  {
   "cell_type": "code",
   "execution_count": null,
   "metadata": {},
   "outputs": [],
   "source": [
    "# Select the first two frames\n",
    "img1 = frames[0]\n",
    "img2 = frames[1]\n",
    "kp1  = keypoints_list[0]\n",
    "kp2  = keypoints_list[1]\n",
    "des1 = descriptors_list[0]\n",
    "des2 = descriptors_list[1] \n",
    "\n",
    "good_matches = match_features(des1, des2, ratio=0.8)\n",
    "print(f\"Number of good matches between Frame 1 and Frame 2: {len(good_matches)}\")\n",
    "\n",
    "visualize_matches(img1, kp1, img2, kp2, good_matches, max_matches=10000)"
   ]
  },
  {
   "cell_type": "code",
   "execution_count": null,
   "metadata": {},
   "outputs": [],
   "source": [
    "f_x = 3225.6\n",
    "f_y = 3225.6\n",
    "c_x = img1.shape[1] / 2  # 4032 / 2 = 2016\n",
    "c_y = img1.shape[0] / 2  # 3024 / 2 = 1512\n",
    "\n",
    "K = np.array([[f_x, 0, c_x],\n",
    "              [0, f_y, c_y],\n",
    "              [0,  0,    1]])\n",
    "print(\"Camera Intrinsic Matrix K:\")\n",
    "print(K)"
   ]
  },
  {
   "cell_type": "code",
   "execution_count": null,
   "metadata": {},
   "outputs": [],
   "source": [
    "# estimate pose and triangulate for 2 images\n",
    "R, t, points_3d, mask = estimate_pose_and_triangulate(kp1, kp2, good_matches, K)\n",
    "\n",
    "if R is None or t is None or points_3d is None:\n",
    "    print(\"Failed\")\n",
    "\n",
    "print(f'number of points: {len(points_3d)}')\n",
    "\n",
    "visualize_3d_reconstruction(points_3d, R, t, K) "
   ]
  },
  {
   "cell_type": "code",
   "execution_count": null,
   "metadata": {},
   "outputs": [],
   "source": [
    "# In works..\n",
    "\n",
    "# # estimate pose and triangulate for all frames\n",
    "# all_points_3d, all_cameras = reconstruct_sequence(frames, keypoints_list, descriptors_list, K)\n",
    "\n",
    "# print(f'number of points: {len(all_points_3d)}')\n",
    "\n",
    "# visualize_full_reconstruction(all_points_3d, all_cameras)"
   ]
  }
 ],
 "metadata": {
  "kernelspec": {
   "display_name": "py310",
   "language": "python",
   "name": "python3"
  },
  "language_info": {
   "codemirror_mode": {
    "name": "ipython",
    "version": 3
   },
   "file_extension": ".py",
   "mimetype": "text/x-python",
   "name": "python",
   "nbconvert_exporter": "python",
   "pygments_lexer": "ipython3",
   "version": "3.10.13"
  }
 },
 "nbformat": 4,
 "nbformat_minor": 2
}
